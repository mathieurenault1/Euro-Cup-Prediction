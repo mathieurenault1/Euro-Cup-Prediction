{
 "cells": [
  {
   "cell_type": "code",
   "execution_count": 4,
   "metadata": {},
   "outputs": [
    {
     "data": {
      "text/html": [
       "<div>\n",
       "<style scoped>\n",
       "    .dataframe tbody tr th:only-of-type {\n",
       "        vertical-align: middle;\n",
       "    }\n",
       "\n",
       "    .dataframe tbody tr th {\n",
       "        vertical-align: top;\n",
       "    }\n",
       "\n",
       "    .dataframe thead th {\n",
       "        text-align: right;\n",
       "    }\n",
       "</style>\n",
       "<table border=\"1\" class=\"dataframe\">\n",
       "  <thead>\n",
       "    <tr style=\"text-align: right;\">\n",
       "      <th></th>\n",
       "      <th>Unnamed: 0</th>\n",
       "      <th>id</th>\n",
       "      <th>Fullname</th>\n",
       "      <th>current_rating</th>\n",
       "      <th>potential_rating</th>\n",
       "      <th>height</th>\n",
       "      <th>weight</th>\n",
       "      <th>preferred_foot</th>\n",
       "      <th>birth_date</th>\n",
       "      <th>preferred_positions</th>\n",
       "      <th>...</th>\n",
       "      <th>curve</th>\n",
       "      <th>fk_acc</th>\n",
       "      <th>penalties</th>\n",
       "      <th>volleys</th>\n",
       "      <th>gk_positioning</th>\n",
       "      <th>gk_diving</th>\n",
       "      <th>gk_handling</th>\n",
       "      <th>gk_kicking</th>\n",
       "      <th>gk_reflexes</th>\n",
       "      <th>nationality</th>\n",
       "    </tr>\n",
       "  </thead>\n",
       "  <tbody>\n",
       "    <tr>\n",
       "      <th>0</th>\n",
       "      <td>237</td>\n",
       "      <td>17725</td>\n",
       "      <td>Aaron Hughes</td>\n",
       "      <td>70</td>\n",
       "      <td>70</td>\n",
       "      <td>183</td>\n",
       "      <td>70</td>\n",
       "      <td>Right</td>\n",
       "      <td>08/11/1979</td>\n",
       "      <td>CB</td>\n",
       "      <td>...</td>\n",
       "      <td>25</td>\n",
       "      <td>45</td>\n",
       "      <td>33</td>\n",
       "      <td>12</td>\n",
       "      <td>8</td>\n",
       "      <td>6</td>\n",
       "      <td>16</td>\n",
       "      <td>11</td>\n",
       "      <td>NaN</td>\n",
       "      <td>Northern Ireland</td>\n",
       "    </tr>\n",
       "    <tr>\n",
       "      <th>1</th>\n",
       "      <td>8583</td>\n",
       "      <td>186561</td>\n",
       "      <td>Aaron Ramsey</td>\n",
       "      <td>82</td>\n",
       "      <td>85</td>\n",
       "      <td>177</td>\n",
       "      <td>70</td>\n",
       "      <td>Right</td>\n",
       "      <td>26/12/1990</td>\n",
       "      <td>CM-CDM-RW</td>\n",
       "      <td>...</td>\n",
       "      <td>70</td>\n",
       "      <td>75</td>\n",
       "      <td>79</td>\n",
       "      <td>10</td>\n",
       "      <td>6</td>\n",
       "      <td>11</td>\n",
       "      <td>5</td>\n",
       "      <td>8</td>\n",
       "      <td>NaN</td>\n",
       "      <td>Wales</td>\n",
       "    </tr>\n",
       "    <tr>\n",
       "      <th>2</th>\n",
       "      <td>5891</td>\n",
       "      <td>180819</td>\n",
       "      <td>Adam Lallana</td>\n",
       "      <td>80</td>\n",
       "      <td>80</td>\n",
       "      <td>172</td>\n",
       "      <td>73</td>\n",
       "      <td>Right</td>\n",
       "      <td>10/05/1988</td>\n",
       "      <td>CAM-RW-LM</td>\n",
       "      <td>...</td>\n",
       "      <td>66</td>\n",
       "      <td>70</td>\n",
       "      <td>72</td>\n",
       "      <td>8</td>\n",
       "      <td>6</td>\n",
       "      <td>15</td>\n",
       "      <td>14</td>\n",
       "      <td>11</td>\n",
       "      <td>NaN</td>\n",
       "      <td>England</td>\n",
       "    </tr>\n",
       "    <tr>\n",
       "      <th>3</th>\n",
       "      <td>2983</td>\n",
       "      <td>223207</td>\n",
       "      <td>Ádám Lang</td>\n",
       "      <td>68</td>\n",
       "      <td>74</td>\n",
       "      <td>185</td>\n",
       "      <td>78</td>\n",
       "      <td>Right</td>\n",
       "      <td>17/01/1993</td>\n",
       "      <td>CB</td>\n",
       "      <td>...</td>\n",
       "      <td>50</td>\n",
       "      <td>56</td>\n",
       "      <td>30</td>\n",
       "      <td>9</td>\n",
       "      <td>6</td>\n",
       "      <td>9</td>\n",
       "      <td>13</td>\n",
       "      <td>16</td>\n",
       "      <td>NaN</td>\n",
       "      <td>Hungary</td>\n",
       "    </tr>\n",
       "    <tr>\n",
       "      <th>4</th>\n",
       "      <td>11133</td>\n",
       "      <td>230936</td>\n",
       "      <td>Ádám Nagy</td>\n",
       "      <td>68</td>\n",
       "      <td>79</td>\n",
       "      <td>175</td>\n",
       "      <td>70</td>\n",
       "      <td>Right</td>\n",
       "      <td>17/06/1995</td>\n",
       "      <td>CDM-RM</td>\n",
       "      <td>...</td>\n",
       "      <td>59</td>\n",
       "      <td>48</td>\n",
       "      <td>68</td>\n",
       "      <td>10</td>\n",
       "      <td>10</td>\n",
       "      <td>7</td>\n",
       "      <td>6</td>\n",
       "      <td>14</td>\n",
       "      <td>NaN</td>\n",
       "      <td>Hungary</td>\n",
       "    </tr>\n",
       "  </tbody>\n",
       "</table>\n",
       "<p>5 rows × 50 columns</p>\n",
       "</div>"
      ],
      "text/plain": [
       "   Unnamed: 0      id      Fullname  current_rating  potential_rating  height  \\\n",
       "0         237   17725  Aaron Hughes              70                70     183   \n",
       "1        8583  186561  Aaron Ramsey              82                85     177   \n",
       "2        5891  180819  Adam Lallana              80                80     172   \n",
       "3        2983  223207     Ádám Lang              68                74     185   \n",
       "4       11133  230936     Ádám Nagy              68                79     175   \n",
       "\n",
       "   weight preferred_foot  birth_date preferred_positions  ... curve  fk_acc  \\\n",
       "0      70          Right  08/11/1979                  CB  ...    25      45   \n",
       "1      70          Right  26/12/1990           CM-CDM-RW  ...    70      75   \n",
       "2      73          Right  10/05/1988           CAM-RW-LM  ...    66      70   \n",
       "3      78          Right  17/01/1993                  CB  ...    50      56   \n",
       "4      70          Right  17/06/1995              CDM-RM  ...    59      48   \n",
       "\n",
       "   penalties volleys  gk_positioning  gk_diving  gk_handling  gk_kicking  \\\n",
       "0         33      12               8          6           16          11   \n",
       "1         79      10               6         11            5           8   \n",
       "2         72       8               6         15           14          11   \n",
       "3         30       9               6          9           13          16   \n",
       "4         68      10              10          7            6          14   \n",
       "\n",
       "   gk_reflexes       nationality  \n",
       "0          NaN  Northern Ireland  \n",
       "1          NaN             Wales  \n",
       "2          NaN           England  \n",
       "3          NaN           Hungary  \n",
       "4          NaN           Hungary  \n",
       "\n",
       "[5 rows x 50 columns]"
      ]
     },
     "execution_count": 4,
     "metadata": {},
     "output_type": "execute_result"
    }
   ],
   "source": [
    "import pandas as pd\n",
    "player_16=pd.read_csv(r\"/Users/prakashgupta/Euro-Cup-Prediction/FinalData/finaldata16.csv\",error_bad_lines=False)\n",
    "player_16.head()"
   ]
  },
  {
   "cell_type": "code",
   "execution_count": 33,
   "metadata": {},
   "outputs": [],
   "source": [
    "teams=pd.DataFrame()\n",
    "teams['country'] =player_16[\"nationality\"]\n",
    "def  remove_columns(player_16):\n",
    "    new_columns=player_16.copy()\n",
    "    new_columns= new_columns.drop(['Unnamed: 0','id','Fullname','preferred_foot','birth_date',\n",
    "                                   'preferred_positions','work_rate','weak_foot',\n",
    "                                   'gk_reflexes','nationality','value','wage'], axis=1)\n",
    "    return new_columns\n",
    "\n",
    "\n",
    "def average_columns(new_columns):\n",
    "    x\n",
    "    \n",
    "\n",
    "\n",
    "    \n",
    "    "
   ]
  },
  {
   "cell_type": "code",
   "execution_count": null,
   "metadata": {},
   "outputs": [],
   "source": [
    "columns.remove('id')\n",
    "    columns.remove('Unnamed: 0')\n",
    "    columns.remove('Fullname')\n",
    "    columns.remove('preferred_foot')\n",
    "    columns.remove('birth_date')\n",
    "    columns.remove('preferred_positions')\n",
    "    columns.remove('work_rate')\n",
    "    columns.remove('weak_foot')\n",
    "    columns.remove('gk_reflexes')\n",
    "    columns.remove('nationality')\n",
    "    columns.remove('value')\n",
    "    columns.remove('wage')"
   ]
  },
  {
   "cell_type": "code",
   "execution_count": 6,
   "metadata": {},
   "outputs": [],
   "source": [
    "x=list(player_16)"
   ]
  },
  {
   "cell_type": "code",
   "execution_count": 11,
   "metadata": {},
   "outputs": [],
   "source": [
    "del x[0]"
   ]
  },
  {
   "cell_type": "code",
   "execution_count": 23,
   "metadata": {},
   "outputs": [
    {
     "data": {
      "text/plain": [
       "Unnamed: 0               int64\n",
       "id                       int64\n",
       "Fullname                object\n",
       "current_rating           int64\n",
       "potential_rating         int64\n",
       "height                   int64\n",
       "weight                   int64\n",
       "preferred_foot          object\n",
       "birth_date              object\n",
       "preferred_positions     object\n",
       "work_rate               object\n",
       "weak_foot                int64\n",
       "skill_moves              int64\n",
       "value                   object\n",
       "wage                   float64\n",
       "ball_control             int64\n",
       "dribbling                int64\n",
       "marking                  int64\n",
       "slide_tackle             int64\n",
       "stand_tackle             int64\n",
       "aggression               int64\n",
       "reactions                int64\n",
       "att_position             int64\n",
       "interceptions            int64\n",
       "vision                   int64\n",
       "composure                int64\n",
       "crossing                 int64\n",
       "short_pass               int64\n",
       "long_pass                int64\n",
       "acceleration             int64\n",
       "stamina                  int64\n",
       "strength                 int64\n",
       "balance                  int64\n",
       "sprint_speed             int64\n",
       "agility                  int64\n",
       "jumping                  int64\n",
       "heading                  int64\n",
       "shot_power               int64\n",
       "finishing                int64\n",
       "long_shots               int64\n",
       "curve                    int64\n",
       "fk_acc                   int64\n",
       "penalties                int64\n",
       "volleys                  int64\n",
       "gk_positioning           int64\n",
       "gk_diving                int64\n",
       "gk_handling              int64\n",
       "gk_kicking               int64\n",
       "gk_reflexes            float64\n",
       "nationality             object\n",
       "dtype: object"
      ]
     },
     "execution_count": 23,
     "metadata": {},
     "output_type": "execute_result"
    }
   ],
   "source": [
    " r"
   ]
  },
  {
   "cell_type": "code",
   "execution_count": 16,
   "metadata": {},
   "outputs": [
    {
     "data": {
      "text/plain": [
       "dtype('O')"
      ]
     },
     "execution_count": 16,
     "metadata": {},
     "output_type": "execute_result"
    }
   ],
   "source": [
    "player_16[\"value\"].dtypes"
   ]
  },
  {
   "cell_type": "code",
   "execution_count": 37,
   "metadata": {},
   "outputs": [
    {
     "data": {
      "text/plain": [
       "0      Northern Ireland\n",
       "1                 Wales\n",
       "2               England\n",
       "3               Hungary\n",
       "4               Hungary\n",
       "             ...       \n",
       "453             Austria\n",
       "454             Hungary\n",
       "455             Hungary\n",
       "456              Poland\n",
       "457              Poland\n",
       "Name: country, Length: 458, dtype: object"
      ]
     },
     "execution_count": 37,
     "metadata": {},
     "output_type": "execute_result"
    }
   ],
   "source": [
    "teams[\"country\"]"
   ]
  },
  {
   "cell_type": "code",
   "execution_count": null,
   "metadata": {},
   "outputs": [],
   "source": []
  }
 ],
 "metadata": {
  "kernelspec": {
   "display_name": "Python 3",
   "language": "python",
   "name": "python3"
  },
  "language_info": {
   "codemirror_mode": {
    "name": "ipython",
    "version": 3
   },
   "file_extension": ".py",
   "mimetype": "text/x-python",
   "name": "python",
   "nbconvert_exporter": "python",
   "pygments_lexer": "ipython3",
   "version": "3.8.5"
  },
  "toc": {
   "base_numbering": 1,
   "nav_menu": {},
   "number_sections": true,
   "sideBar": true,
   "skip_h1_title": false,
   "title_cell": "Table of Contents",
   "title_sidebar": "Contents",
   "toc_cell": false,
   "toc_position": {},
   "toc_section_display": true,
   "toc_window_display": false
  },
  "varInspector": {
   "cols": {
    "lenName": 16,
    "lenType": 16,
    "lenVar": 40
   },
   "kernels_config": {
    "python": {
     "delete_cmd_postfix": "",
     "delete_cmd_prefix": "del ",
     "library": "var_list.py",
     "varRefreshCmd": "print(var_dic_list())"
    },
    "r": {
     "delete_cmd_postfix": ") ",
     "delete_cmd_prefix": "rm(",
     "library": "var_list.r",
     "varRefreshCmd": "cat(var_dic_list()) "
    }
   },
   "types_to_exclude": [
    "module",
    "function",
    "builtin_function_or_method",
    "instance",
    "_Feature"
   ],
   "window_display": false
  }
 },
 "nbformat": 4,
 "nbformat_minor": 4
}
